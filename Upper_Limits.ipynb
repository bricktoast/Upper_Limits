{
 "cells": [
  {
   "cell_type": "markdown",
   "id": "4ca962e0",
   "metadata": {},
   "source": [
    "This notebook can be used to estimate the upper limit of detectable events for a trial where no instances are detected. For example, SETI (Search for Extraterrestrial Intelligence) searches that have not yet yielded a positive detection of ET. This calculation is adapted from https://seti.ucla.edu/jlm/publications/Margot23.aj.technosignatures.pdf"
   ]
  },
  {
   "cell_type": "code",
   "execution_count": 7,
   "id": "869cf2e2",
   "metadata": {},
   "outputs": [],
   "source": [
    "import matplotlib.pyplot as plt\n",
    "import numpy as np"
   ]
  },
  {
   "cell_type": "markdown",
   "id": "b26a6b92",
   "metadata": {},
   "source": [
    "First, set constants to determine your probability of detection, p\n",
    "\n",
    "$p = f_E * \\eta_p$\n",
    "\n",
    "$f_E$ is the fraction of trials that truly have an event. In a SETI search, this would be a detection of ET. The maximum value of $f_E$ is therefore your fractional upper limit, with $f_E * N$, where $N$ is your number of trials, as your upper limit.\n",
    "\n",
    "$\\eta_p$ is your ability to detect an event should one occur in your sample. In a SETI search, this would be the efficiency of your pipeline. \n",
    "\n",
    "Other limiting factors, such as the fraction of time a population of ET is transmitting a signal, can be added as further multipliers in $p$. "
   ]
  },
  {
   "cell_type": "code",
   "execution_count": 20,
   "id": "69a3b416",
   "metadata": {},
   "outputs": [],
   "source": [
    "#Set your constants here\n",
    "\n",
    "eta_p = 1 #pipeline efficiency \n",
    "N = 6 * 10**7 #sample size\n",
    "\n",
    "#D = 1 Duty cycle\n",
    "#... anything else\n",
    "\n",
    "p = eta_p * N #* D *..."
   ]
  },
  {
   "cell_type": "markdown",
   "id": "1c53dac7",
   "metadata": {},
   "source": [
    "Applying the Binomial Distribution with 0 successes:\n",
    "\n",
    "$B(0, N, p) = (1-p)^N$\n",
    "\n",
    "Next, set a confidence level, or the confidence you have that your measurement is some relevant number and not something extremely far outside of the actual distribution. It is customary to use 95% here, but this can be changed. \n",
    "\n",
    "Technically, this number is set first by assuming a confidence interval, but such is still not agreed on for the Binomial Distribution. \n",
    "\n",
    "In the case of trying to maximize an upper limit while also not finding any events, we can set our probability of 0 successes to $1-CL$, where $CL$ is our confidence level.\n",
    "\n",
    "So, our final equation is:\n",
    "\n",
    "$(1-p)^N = 1-CL$\n",
    "\n",
    "Plugging in your variables for $p$ and solving for $f_E$, you might get:\n",
    "\n",
    "$f_E = \\dfrac{1 - (1-CL)^{1/N}}{\\eta_p}$\n"
   ]
  },
  {
   "cell_type": "code",
   "execution_count": 39,
   "id": "83da7a5c",
   "metadata": {},
   "outputs": [],
   "source": [
    "#Set some Confidence Level\n",
    "\n",
    "CL = 0.95\n",
    "\n",
    "f_E = (1 - (1- CL) ** (1/N)) / eta_p"
   ]
  },
  {
   "cell_type": "code",
   "execution_count": 38,
   "id": "e3409033",
   "metadata": {},
   "outputs": [
    {
     "data": {
      "text/plain": [
       "Text(0.5, 1.0, 'Upper Limit of Events')"
      ]
     },
     "execution_count": 38,
     "metadata": {},
     "output_type": "execute_result"
    },
    {
     "data": {
      "image/png": "[encoded data removed]",
      "text/plain": [
       "<Figure size 864x576 with 1 Axes>"
      ]
     },
     "metadata": {
      "needs_background": "light"
     },
     "output_type": "display_data"
    }
   ],
   "source": [
    "#Varying with something like pipeline efficiency\n",
    "\n",
    "eta_p = np.linspace(0.1, 1, 100)\n",
    "f_E = (1 - (1- CL) ** (1/N)) / eta_p\n",
    "\n",
    "plt.figure(figsize = [12,8])\n",
    "plt.plot(eta_p, f_E * N, c = 'orchid', lw = 5)\n",
    "plt.xlabel('Pipeline Efficiency (%)')\n",
    "plt.title('Upper Limit of Events')"
   ]
  },
  {
   "cell_type": "code",
   "execution_count": null,
   "id": "98cb1f30",
   "metadata": {},
   "outputs": [],
   "source": []
  }
 ],
 "metadata": {
  "kernelspec": {
   "display_name": "Python 3",
   "language": "python",
   "name": "python3"
  },
  "language_info": {
   "codemirror_mode": {
    "name": "ipython",
    "version": 3
   },
   "file_extension": ".py",
   "mimetype": "text/x-python",
   "name": "python",
   "nbconvert_exporter": "python",
   "pygments_lexer": "ipython3",
   "version": "3.8.8"
  }
 },
 "nbformat": 4,
 "nbformat_minor": 5
}
